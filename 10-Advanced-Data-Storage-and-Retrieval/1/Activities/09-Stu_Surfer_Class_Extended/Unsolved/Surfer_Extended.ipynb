{
 "cells": [
  {
   "cell_type": "code",
   "execution_count": 13,
   "metadata": {},
   "outputs": [],
   "source": [
    "# Define the Surfer Class\n",
    "class Surfer:\n",
    "    \n",
    "    def __init__(self,name,hometown,rank,wipeouts='Y'):\n",
    "        self.name = name\n",
    "        self.hometown = hometown\n",
    "        self.rank = rank\n",
    "        self.wipeouts = wipeouts\n",
    "        #Surfer.surfercount = Surfer.surferCount+1\n",
    "    \n",
    "    def speak(surfer):\n",
    "        print(f'Hangs loose, bruh!')\n",
    "                \n",
    "    def state_bio(surfer):\n",
    "        print(f'{surfer.name} and {surfer.hometown}')\n",
    "        \n",
    "    def cheer(surfer):\n",
    "        if surfer.wipeouts == 'Y':\n",
    "            print(f'I totally rock man, no wipeouts!')\n",
    "        else: print(f'Bummer bruh, keep on keeping on!')"
   ]
  },
  {
   "cell_type": "code",
   "execution_count": 14,
   "metadata": {},
   "outputs": [],
   "source": [
    "# Create Surfers\n",
    "# --------------------------------------------------------------------------------\n",
    "surfer1= Surfer(name='John', hometown ='SFO', rank ='45', wipeouts ='Y')\n",
    "surfer2= Surfer(name='Jill', hometown ='Houston', rank ='95', wipeouts ='N')"
   ]
  },
  {
   "cell_type": "code",
   "execution_count": 15,
   "metadata": {},
   "outputs": [
    {
     "name": "stdout",
     "output_type": "stream",
     "text": [
      "Bummer bruh, keep on keeping on!\n"
     ]
    }
   ],
   "source": [
    "surfer2.cheer()\n"
   ]
  },
  {
   "cell_type": "code",
   "execution_count": null,
   "metadata": {},
   "outputs": [],
   "source": [
    "*#Create a `Surfer` class that has `name`, `hometown`, `rank`, and `wipeouts` instance variables.\n",
    "\n",
    "* #Create a method called `speak` that prints \"Hangs loose, bruh!\"\n",
    "\n",
    "* #Create a method called `biography` that prints the surfer's name and hometown.\n",
    "\n",
    "* #Create a method called `cheer` that will print \"I totally rock man, no wipeouts!\" if the surfer has no wipeouts. Otherwise, it prints 'Bummer bruh, keep on keeping on!'.\n",
    "\n",
    "* #Create two surfers that print out all their info and run all the methods.\n"
   ]
  }
 ],
 "metadata": {
  "kernelspec": {
   "display_name": "Python 3",
   "language": "python",
   "name": "python3"
  },
  "language_info": {
   "codemirror_mode": {
    "name": "ipython",
    "version": 3
   },
   "file_extension": ".py",
   "mimetype": "text/x-python",
   "name": "python",
   "nbconvert_exporter": "python",
   "pygments_lexer": "ipython3",
   "version": "3.7.4"
  },
  "varInspector": {
   "cols": {
    "lenName": 16,
    "lenType": 16,
    "lenVar": 40
   },
   "kernels_config": {
    "python": {
     "delete_cmd_postfix": "",
     "delete_cmd_prefix": "del ",
     "library": "var_list.py",
     "varRefreshCmd": "print(var_dic_list())"
    },
    "r": {
     "delete_cmd_postfix": ") ",
     "delete_cmd_prefix": "rm(",
     "library": "var_list.r",
     "varRefreshCmd": "cat(var_dic_list()) "
    }
   },
   "types_to_exclude": [
    "module",
    "function",
    "builtin_function_or_method",
    "instance",
    "_Feature"
   ],
   "window_display": false
  }
 },
 "nbformat": 4,
 "nbformat_minor": 2
}
