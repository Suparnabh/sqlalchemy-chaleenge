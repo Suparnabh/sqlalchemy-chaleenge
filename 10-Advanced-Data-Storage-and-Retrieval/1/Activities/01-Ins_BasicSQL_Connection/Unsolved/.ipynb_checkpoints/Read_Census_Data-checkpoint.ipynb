{
 "cells": [
  {
   "cell_type": "code",
   "execution_count": 1,
   "metadata": {},
   "outputs": [],
   "source": [
    "# SQL Alchemy\n",
    "from sqlalchemy import create_engine\n",
    "import os"
   ]
  },
  {
   "cell_type": "code",
   "execution_count": 2,
   "metadata": {},
   "outputs": [],
   "source": [
    "database_path = os.path.join('..','Resources','Census_Data.sqlite')\n",
    "engine = create_engine(f'sqlite:///{database_path}')\n"
   ]
  },
  {
   "cell_type": "code",
   "execution_count": 3,
   "metadata": {},
   "outputs": [
    {
     "name": "stdout",
     "output_type": "stream",
     "text": [
      "<sqlalchemy.engine.result.ResultProxy object at 0x00000273831DBBC8>\n"
     ]
    }
   ],
   "source": [
    "#execute SQL query\n",
    "data = engine.execute('SELECT * FROM census_data')\n",
    "print(data)"
   ]
  },
  {
   "cell_type": "code",
   "execution_count": 7,
   "metadata": {},
   "outputs": [],
   "source": [
    "#Iterate over the rows in the Result Proxy.\n",
    "for record in data:\n",
    "    print (record)"
   ]
  },
  {
   "cell_type": "code",
   "execution_count": 6,
   "metadata": {},
   "outputs": [
    {
     "data": {
      "text/plain": [
       "['CityState',\n",
       " 'city',\n",
       " 'state',\n",
       " 'Population',\n",
       " 'White Population',\n",
       " 'Black Population',\n",
       " 'Native American Population',\n",
       " 'Asian Population',\n",
       " 'Hispanic Population',\n",
       " 'Education None',\n",
       " 'Education High School',\n",
       " 'Education GED',\n",
       " 'Education Associates',\n",
       " 'Education Bachelors',\n",
       " 'Education Masters',\n",
       " 'Education Professional',\n",
       " 'Education Doctorate',\n",
       " 'Poverty',\n",
       " 'Employment Labor Force',\n",
       " 'Employment Unemployed',\n",
       " 'Employment Male Computer Engineering',\n",
       " 'Employment Female Computer Engineering',\n",
       " 'Median Age',\n",
       " 'Median Male Age',\n",
       " 'Median Female Age',\n",
       " 'Household Income',\n",
       " 'Income Per Capita',\n",
       " 'Median Gross Rent',\n",
       " 'Median Home Value',\n",
       " 'lat',\n",
       " 'lng']"
      ]
     },
     "execution_count": 6,
     "metadata": {},
     "output_type": "execute_result"
    }
   ],
   "source": [
    "#print columns\n",
    "data.keys()"
   ]
  }
 ],
 "metadata": {
  "anaconda-cloud": {},
  "kernelspec": {
   "display_name": "Python 3",
   "language": "python",
   "name": "python3"
  },
  "language_info": {
   "codemirror_mode": {
    "name": "ipython",
    "version": 3
   },
   "file_extension": ".py",
   "mimetype": "text/x-python",
   "name": "python",
   "nbconvert_exporter": "python",
   "pygments_lexer": "ipython3",
   "version": "3.7.4"
  },
  "varInspector": {
   "cols": {
    "lenName": 16,
    "lenType": 16,
    "lenVar": 40
   },
   "kernels_config": {
    "python": {
     "delete_cmd_postfix": "",
     "delete_cmd_prefix": "del ",
     "library": "var_list.py",
     "varRefreshCmd": "print(var_dic_list())"
    },
    "r": {
     "delete_cmd_postfix": ") ",
     "delete_cmd_prefix": "rm(",
     "library": "var_list.r",
     "varRefreshCmd": "cat(var_dic_list()) "
    }
   },
   "types_to_exclude": [
    "module",
    "function",
    "builtin_function_or_method",
    "instance",
    "_Feature"
   ],
   "window_display": false
  }
 },
 "nbformat": 4,
 "nbformat_minor": 1
}
