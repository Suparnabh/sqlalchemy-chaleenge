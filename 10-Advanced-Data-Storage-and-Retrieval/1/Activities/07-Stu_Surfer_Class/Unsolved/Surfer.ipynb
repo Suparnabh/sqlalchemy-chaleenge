{
 "cells": [
  {
   "cell_type": "code",
   "execution_count": 14,
   "metadata": {},
   "outputs": [],
   "source": [
    "# Define the Surfer Class\n",
    "class Surfer:\n",
    "    \n",
    "    def __init__(self,name,hometown,rank):\n",
    "        self.name = name\n",
    "        self.hometown = hometown\n",
    "        self.rank = rank\n",
    "        \n",
    "    def print(surfer):\n",
    "        print(f'{name2.name} is from {name2.hometown} and his rank is {name2.rank}')"
   ]
  },
  {
   "cell_type": "code",
   "execution_count": 15,
   "metadata": {},
   "outputs": [],
   "source": [
    "# Create an instance of the Surfer Class\n",
    "John = Surfer(name='John',hometown='SFO', rank ='A')"
   ]
  },
  {
   "cell_type": "code",
   "execution_count": 11,
   "metadata": {},
   "outputs": [
    {
     "name": "stdout",
     "output_type": "stream",
     "text": [
      "John is from SFO and his rank is A\n"
     ]
    }
   ],
   "source": [
    "# Print the object's attributes\n",
    "print(f'{John.name} is from {John.hometown} and his rank is {John.rank}')"
   ]
  },
  {
   "cell_type": "code",
   "execution_count": 26,
   "metadata": {},
   "outputs": [
    {
     "name": "stdout",
     "output_type": "stream",
     "text": [
      "What is the name of the surfer?A\n",
      "What is his hometown?B\n",
      "What is his rank?1\n",
      "name is from hometown and his rank is rank\n",
      "Do you want to continue?Y/NY\n",
      "What is the name of the surfer?C\n",
      "What is his hometown?D\n",
      "What is his rank?2\n",
      "name is from hometown and his rank is rank\n",
      "Do you want to continue?Y/NN\n"
     ]
    }
   ],
   "source": [
    "# ----BONUS----\n",
    "# Variable to keep track of changes to while loop\n",
    "continue_running = 'Y'\n",
    "while continue_running == 'Y':\n",
    "        name = input('What is the name of the surfer?')\n",
    "        hometown = input('What is his hometown?')\n",
    "        rank = input('What is his rank?')\n",
    "        surfer = Surfer(name='name',hometown='hometown',rank='rank')\n",
    "        surfer.print()\n",
    "       \n",
    "        continue_running = input('Do you want to continue?Y/N')"
   ]
  }
 ],
 "metadata": {
  "kernelspec": {
   "display_name": "Python 3",
   "language": "python",
   "name": "python3"
  },
  "language_info": {
   "codemirror_mode": {
    "name": "ipython",
    "version": 3
   },
   "file_extension": ".py",
   "mimetype": "text/x-python",
   "name": "python",
   "nbconvert_exporter": "python",
   "pygments_lexer": "ipython3",
   "version": "3.7.4"
  },
  "varInspector": {
   "cols": {
    "lenName": 16,
    "lenType": 16,
    "lenVar": 40
   },
   "kernels_config": {
    "python": {
     "delete_cmd_postfix": "",
     "delete_cmd_prefix": "del ",
     "library": "var_list.py",
     "varRefreshCmd": "print(var_dic_list())"
    },
    "r": {
     "delete_cmd_postfix": ") ",
     "delete_cmd_prefix": "rm(",
     "library": "var_list.r",
     "varRefreshCmd": "cat(var_dic_list()) "
    }
   },
   "types_to_exclude": [
    "module",
    "function",
    "builtin_function_or_method",
    "instance",
    "_Feature"
   ],
   "window_display": false
  }
 },
 "nbformat": 4,
 "nbformat_minor": 2
}
