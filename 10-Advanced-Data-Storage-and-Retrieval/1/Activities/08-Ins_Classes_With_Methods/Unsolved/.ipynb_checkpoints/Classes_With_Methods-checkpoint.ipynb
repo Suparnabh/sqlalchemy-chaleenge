{
 "cells": [
  {
   "cell_type": "code",
   "execution_count": 1,
   "metadata": {},
   "outputs": [],
   "source": [
    "class Film:\n",
    "    \n",
    "    def __init__(self,name,release_year,director):\n",
    "        self.name = name\n",
    "        self.release_year = release_year\n",
    "        self.director = director"
   ]
  },
  {
   "cell_type": "code",
   "execution_count": 6,
   "metadata": {},
   "outputs": [],
   "source": [
    "class Expert:\n",
    "    def __init__(self,name):\n",
    "        self.name = name\n",
    "    \n",
    "    def boast(self,film_object):\n",
    "        print(f'Hi I am {self.name}')\n",
    "        print(f'Hi I am an expert of the fim {film_object.name}')\n",
    "        print(f'Film {film_object.name} was released in {film_object.release_year} directed by {film_object.director}')"
   ]
  },
  {
   "cell_type": "code",
   "execution_count": 7,
   "metadata": {},
   "outputs": [],
   "source": [
    "film_sw_1 = Film('A New Hope',1977,'George Lucas')\n",
    "film_sw_2 = Film('Last Jedi',2017,'Rian Johnson')\n",
    "\n"
   ]
  },
  {
   "cell_type": "code",
   "execution_count": 8,
   "metadata": {},
   "outputs": [],
   "source": [
    "#Instance of expert\n",
    "\n",
    "expert_g1 = Expert('George Lucas')\n"
   ]
  },
  {
   "cell_type": "code",
   "execution_count": 9,
   "metadata": {},
   "outputs": [
    {
     "name": "stdout",
     "output_type": "stream",
     "text": [
      "Hi I am George Lucas\n",
      "Hi I am an expert of the fim A New Hope\n",
      "Film A New Hope was released in 1977 directed by George Lucas\n"
     ]
    }
   ],
   "source": [
    "expert_g1.boast(film_sw_1)"
   ]
  },
  {
   "cell_type": "code",
   "execution_count": 10,
   "metadata": {},
   "outputs": [
    {
     "name": "stdout",
     "output_type": "stream",
     "text": [
      "Hi I am George Lucas\n",
      "Hi I am an expert of the fim Last Jedi\n",
      "Film Last Jedi was released in 2017 directed by Rian Johnson\n"
     ]
    }
   ],
   "source": [
    "expert_g1.boast(film_sw_2)"
   ]
  }
 ],
 "metadata": {
  "kernelspec": {
   "display_name": "Python [conda env:PandasLearn] *",
   "language": "python",
   "name": "conda-env-PandasLearn-py"
  },
  "language_info": {
   "codemirror_mode": {
    "name": "ipython",
    "version": 3
   },
   "file_extension": ".py",
   "mimetype": "text/x-python",
   "name": "python",
   "nbconvert_exporter": "python",
   "pygments_lexer": "ipython3",
   "version": "3.7.4"
  },
  "varInspector": {
   "cols": {
    "lenName": 16,
    "lenType": 16,
    "lenVar": 40
   },
   "kernels_config": {
    "python": {
     "delete_cmd_postfix": "",
     "delete_cmd_prefix": "del ",
     "library": "var_list.py",
     "varRefreshCmd": "print(var_dic_list())"
    },
    "r": {
     "delete_cmd_postfix": ") ",
     "delete_cmd_prefix": "rm(",
     "library": "var_list.r",
     "varRefreshCmd": "cat(var_dic_list()) "
    }
   },
   "types_to_exclude": [
    "module",
    "function",
    "builtin_function_or_method",
    "instance",
    "_Feature"
   ],
   "window_display": false
  }
 },
 "nbformat": 4,
 "nbformat_minor": 2
}
